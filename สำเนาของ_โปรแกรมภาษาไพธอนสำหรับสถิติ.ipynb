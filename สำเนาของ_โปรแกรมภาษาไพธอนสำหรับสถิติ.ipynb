{
  "nbformat": 4,
  "nbformat_minor": 0,
  "metadata": {
    "colab": {
      "name": "สำเนาของ โปรแกรมภาษาไพธอนสำหรับสถิติ.ipynb",
      "provenance": [],
      "include_colab_link": true
    },
    "kernelspec": {
      "name": "python3",
      "display_name": "Python 3"
    },
    "language_info": {
      "name": "python"
    }
  },
  "cells": [
    {
      "cell_type": "markdown",
      "metadata": {
        "id": "view-in-github",
        "colab_type": "text"
      },
      "source": [
        "<a href=\"https://colab.research.google.com/github/somchaithumariya/ChatterBot/blob/master/%E0%B8%AA%E0%B8%B3%E0%B9%80%E0%B8%99%E0%B8%B2%E0%B8%82%E0%B8%AD%E0%B8%87_%E0%B9%82%E0%B8%9B%E0%B8%A3%E0%B9%81%E0%B8%81%E0%B8%A3%E0%B8%A1%E0%B8%A0%E0%B8%B2%E0%B8%A9%E0%B8%B2%E0%B9%84%E0%B8%9E%E0%B8%98%E0%B8%AD%E0%B8%99%E0%B8%AA%E0%B8%B3%E0%B8%AB%E0%B8%A3%E0%B8%B1%E0%B8%9A%E0%B8%AA%E0%B8%96%E0%B8%B4%E0%B8%95%E0%B8%B4.ipynb\" target=\"_parent\"><img src=\"https://colab.research.google.com/assets/colab-badge.svg\" alt=\"Open In Colab\"/></a>"
      ]
    },
    {
      "cell_type": "code",
      "metadata": {
        "id": "1vqx88ppPcNL"
      },
      "source": [
        ""
      ],
      "execution_count": null,
      "outputs": []
    },
    {
      "cell_type": "markdown",
      "metadata": {
        "id": "aHQUgmt-PoxQ"
      },
      "source": [
        "**การหาค่าเฉลี่ย**"
      ]
    },
    {
      "cell_type": "code",
      "metadata": {
        "colab": {
          "base_uri": "https://localhost:8080/"
        },
        "id": "XA-CW2FoPt4D",
        "outputId": "6a8ea58c-e8cb-4b7b-8ce8-8153a268e81b"
      },
      "source": [
        "data = [12,15,16,18,20]\n",
        "summation =sum(data)\n",
        "print(summation)"
      ],
      "execution_count": null,
      "outputs": [
        {
          "output_type": "stream",
          "name": "stdout",
          "text": [
            "81\n"
          ]
        }
      ]
    },
    {
      "cell_type": "code",
      "metadata": {
        "colab": {
          "base_uri": "https://localhost:8080/"
        },
        "id": "Wsq4i_vYRNGg",
        "outputId": "f4472210-acd5-43ed-9519-74db111f9b89"
      },
      "source": [
        "mean = summation/5\n",
        "print(mean)"
      ],
      "execution_count": null,
      "outputs": [
        {
          "output_type": "stream",
          "name": "stdout",
          "text": [
            "16.2\n"
          ]
        }
      ]
    },
    {
      "cell_type": "code",
      "metadata": {
        "colab": {
          "base_uri": "https://localhost:8080/"
        },
        "id": "wey10CHDRai7",
        "outputId": "2b5db717-5b92-40c1-9c23-cda16b75f41e"
      },
      "source": [
        "import numpy as np\n",
        "mean2 = np.mean(data)\n",
        "print(mean2)"
      ],
      "execution_count": null,
      "outputs": [
        {
          "output_type": "stream",
          "name": "stdout",
          "text": [
            "16.2\n"
          ]
        }
      ]
    },
    {
      "cell_type": "code",
      "metadata": {
        "colab": {
          "base_uri": "https://localhost:8080/"
        },
        "id": "-kBE9ugnR28H",
        "outputId": "cf3eab76-c069-4550-bf56-492fb1ffc4d4"
      },
      "source": [
        "#ใช้หาค่า SD ส่วนเบี่ยงเบนมาตรฐาน\n",
        "SD = np.std(data)\n",
        "print(SD)"
      ],
      "execution_count": null,
      "outputs": [
        {
          "output_type": "stream",
          "name": "stdout",
          "text": [
            "2.7129319932501073\n"
          ]
        }
      ]
    },
    {
      "cell_type": "code",
      "metadata": {
        "colab": {
          "base_uri": "https://localhost:8080/"
        },
        "id": "4RVRT-OJSrPY",
        "outputId": "90612d72-897c-453d-d5b2-ccc543ab96c0"
      },
      "source": [
        "a = 4\n",
        "a2 = np.sqrt(a)\n",
        "print(a2)"
      ],
      "execution_count": null,
      "outputs": [
        {
          "output_type": "stream",
          "name": "stdout",
          "text": [
            "2.0\n"
          ]
        }
      ]
    },
    {
      "cell_type": "code",
      "metadata": {
        "colab": {
          "base_uri": "https://localhost:8080/"
        },
        "id": "qdRYT3OLTUW3",
        "outputId": "82830e3c-1e58-4114-a750-4788041bfc77"
      },
      "source": [
        "p  = np.pi \n",
        "print(p)"
      ],
      "execution_count": null,
      "outputs": [
        {
          "output_type": "stream",
          "name": "stdout",
          "text": [
            "3.141592653589793\n"
          ]
        }
      ]
    },
    {
      "cell_type": "code",
      "metadata": {
        "colab": {
          "base_uri": "https://localhost:8080/"
        },
        "id": "zH5IlFLaUT6g",
        "outputId": "9473a940-2d91-4331-effd-7e967f14c32b"
      },
      "source": [
        "import pandas as pd\n",
        "\n",
        "#ป้อนข้อมูล ชุด x และ ชุด y\n",
        "x = [3,5,7,9,11,13,15]\n",
        "y =  [2,4,6,8,10,12,14]\n",
        "#[ ] = list  ,   { } = dictionary  ,    ( )  = ฟังก์ชัน\n",
        "data = {'คอลัมน์X':x, 'คอลัมน์Y':y}\n",
        "df  =  pd.DataFrame(data)\n",
        "print(df)"
      ],
      "execution_count": null,
      "outputs": [
        {
          "output_type": "stream",
          "name": "stdout",
          "text": [
            "   คอลัมน์X  คอลัมน์Y\n",
            "0         3         2\n",
            "1         5         4\n",
            "2         7         6\n",
            "3         9         8\n",
            "4        11        10\n",
            "5        13        12\n",
            "6        15        14\n"
          ]
        }
      ]
    },
    {
      "cell_type": "code",
      "metadata": {
        "colab": {
          "base_uri": "https://localhost:8080/"
        },
        "id": "rEOlgh4pX7kF",
        "outputId": "6a4adf8f-3bb8-4741-f402-984380301081"
      },
      "source": [
        "z = [1,2,3,4,5,6,7]\n",
        "df['คอลัมน์z'] = z\n",
        "print(df)"
      ],
      "execution_count": null,
      "outputs": [
        {
          "output_type": "stream",
          "name": "stdout",
          "text": [
            "   คอลัมน์X  คอลัมน์Y  คอลัมน์z\n",
            "0         3         2         1\n",
            "1         5         4         2\n",
            "2         7         6         3\n",
            "3         9         8         4\n",
            "4        11        10         5\n",
            "5        13        12         6\n",
            "6        15        14         7\n"
          ]
        }
      ]
    },
    {
      "cell_type": "code",
      "metadata": {
        "colab": {
          "base_uri": "https://localhost:8080/"
        },
        "id": "fiiQo7LuYf8s",
        "outputId": "48501ba7-741f-44f0-a15a-598969f3c14e"
      },
      "source": [
        "L = [1,2,3]\n",
        "D = {'apple':'แอปเปิ้ล' ,  'bird':'นก'}\n"
      ],
      "execution_count": null,
      "outputs": [
        {
          "output_type": "execute_result",
          "data": {
            "text/plain": [
              "(1, 2, 3)"
            ]
          },
          "metadata": {},
          "execution_count": 41
        }
      ]
    },
    {
      "cell_type": "code",
      "metadata": {
        "colab": {
          "base_uri": "https://localhost:8080/"
        },
        "id": "pfAuDQsFZ8s-",
        "outputId": "cfadf9e4-2bbb-4bf8-b923-d132aaeb3333"
      },
      "source": [
        "dataStudent =[ ['สมชาย',15,'ชาย'], ['สมหมาย', 14 , 'หญิง'] , ['มานี',13, 'หญิง'] ]\n",
        "df_student = pd.DataFrame(data = dataStudent, columns=['ชื่อ','อายุ','เพศ'] )\n",
        "print(df_student)"
      ],
      "execution_count": null,
      "outputs": [
        {
          "output_type": "stream",
          "name": "stdout",
          "text": [
            "     ชื่อ  อายุ   เพศ\n",
            "0   สมชาย    15   ชาย\n",
            "1  สมหมาย    14  หญิง\n",
            "2    มานี    13  หญิง\n"
          ]
        }
      ]
    },
    {
      "cell_type": "code",
      "metadata": {
        "colab": {
          "base_uri": "https://localhost:8080/",
          "height": 282
        },
        "id": "rdTWLVp8bSf-",
        "outputId": "64fb0a56-efbe-44e9-ebfe-d888aa3be461"
      },
      "source": [
        "import matplotlib.pyplot as plt\n",
        "x= [3,5,7,9,11,12]\n",
        "y= [2,4,6,8,10,12]\n",
        "#แบบจุด \n",
        "plt.scatter(x,y) \n",
        "plt.show"
      ],
      "execution_count": null,
      "outputs": [
        {
          "output_type": "execute_result",
          "data": {
            "text/plain": [
              "<function matplotlib.pyplot.show>"
            ]
          },
          "metadata": {},
          "execution_count": 45
        },
        {
          "output_type": "display_data",
          "data": {
            "image/png": "[encoded data removed]",
            "text/plain": [
              "<Figure size 432x288 with 1 Axes>"
            ]
          },
          "metadata": {
            "needs_background": "light"
          }
        }
      ]
    },
    {
      "cell_type": "code",
      "metadata": {
        "colab": {
          "base_uri": "https://localhost:8080/",
          "height": 282
        },
        "id": "j-JfIU1Ybp2R",
        "outputId": "3359f46b-8258-4faa-e2ac-b16c25a57e34"
      },
      "source": [
        "#แบบเส้น\n",
        "plt.plot(x,y)\n",
        "plt.show"
      ],
      "execution_count": null,
      "outputs": [
        {
          "output_type": "execute_result",
          "data": {
            "text/plain": [
              "<function matplotlib.pyplot.show>"
            ]
          },
          "metadata": {},
          "execution_count": 44
        },
        {
          "output_type": "display_data",
          "data": {
            "image/png": "[encoded data removed]",
            "text/plain": [
              "<Figure size 432x288 with 1 Axes>"
            ]
          },
          "metadata": {
            "needs_background": "light"
          }
        }
      ]
    },
    {
      "cell_type": "code",
      "metadata": {
        "colab": {
          "base_uri": "https://localhost:8080/",
          "height": 313
        },
        "id": "5McpMvCXcy7E",
        "outputId": "3602afba-7cfc-426f-98eb-0e4668929ab1"
      },
      "source": [
        "#การบ้าน\n",
        "import matplotlib.pyplot as plt\n",
        "\n",
        "print('สมชาย เลขาบอต')\n",
        "x = [18,20,15,6,9,10,20,19,17,13,16,7,14,15,20,4,12,17,19,18]\n",
        "y = [18,20,15,6,9,10,20,19,17,13,16,7,14,15,20,4,12,17,19,18]\n",
        "\n",
        "\n",
        "plt.xlabel('Number')\n",
        "plt.ylabel('POINT')\n",
        "plt.scatter(x,y)\n",
        "\n",
        "plt.show"
      ],
      "execution_count": 3,
      "outputs": [
        {
          "output_type": "stream",
          "name": "stdout",
          "text": [
            "สมชาย เลขาบอต\n"
          ]
        },
        {
          "output_type": "execute_result",
          "data": {
            "text/plain": [
              "<function matplotlib.pyplot.show>"
            ]
          },
          "metadata": {},
          "execution_count": 3
        },
        {
          "output_type": "display_data",
          "data": {
            "image/png": "[encoded data removed]",
            "text/plain": [
              "<Figure size 432x288 with 1 Axes>"
            ]
          },
          "metadata": {
            "needs_background": "light"
          }
        }
      ]
    }
  ]
}